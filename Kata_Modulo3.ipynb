{
 "cells": [
  {
   "cell_type": "markdown",
   "metadata": {},
   "source": [
    "# Primer ejercicio"
   ]
  },
  {
   "cell_type": "code",
   "execution_count": null,
   "metadata": {},
   "outputs": [],
   "source": [
    "velocidadAsteroide = 49\n",
    "\n",
    "if velocidadAsteroide > 25:\n",
    "    print(\"Advertencia: Un Asteroide se acerca muy rapido a la Tierra.\")\n",
    "else:\n",
    "    print(\"Todo normal\")"
   ]
  },
  {
   "cell_type": "markdown",
   "metadata": {},
   "source": [
    "# Segundo ejercicio"
   ]
  },
  {
   "cell_type": "code",
   "execution_count": null,
   "metadata": {},
   "outputs": [],
   "source": [
    "velocidadEntrada = 19\n",
    "\n",
    "if velocidadEntrada > 20:\n",
    "    print(\"Ciudadanos de la Tierra, vean las luces en el cielo\")\n",
    "elif velocidadEntrada == 20:\n",
    "    print(\"Ciudadanos de la Tierra, vean las luces en el cielo\")\n",
    "else:\n",
    "    print(\"No hay nada que reportar\")"
   ]
  },
  {
   "cell_type": "markdown",
   "metadata": {},
   "source": [
    "# Tercer Ejercicio"
   ]
  },
  {
   "cell_type": "code",
   "execution_count": null,
   "metadata": {},
   "outputs": [],
   "source": [
    "asteroideVelocidad = 28\n",
    "tamanoAsteroide = 60\n",
    "\n",
    "if tamanoAsteroide > 25 and asteroideVelocidad > 25:\n",
    "    print(\"PELIGRO: Un Asteroide peligroso se acerca a la tierra, buscar refugio...\")\n",
    "elif asteroideVelocidad > 20:\n",
    "    print(\"Ciudadanos de la Tierra, vean las luces en el cielo\")\n",
    "elif tamanoAsteroide <= 25:\n",
    "    print(\"No hay nada que reportar\")\n",
    "else:\n",
    "    print(\"No hay nada que reportar\")"
   ]
  }
 ],
 "metadata": {
  "interpreter": {
   "hash": "aee8b7b246df8f9039afb4144a1f6fd8d2ca17a180786b69acc140d282b71a49"
  },
  "kernelspec": {
   "display_name": "Python 3.10.0 64-bit",
   "language": "python",
   "name": "python3"
  },
  "language_info": {
   "codemirror_mode": {
    "name": "ipython",
    "version": 3
   },
   "file_extension": ".py",
   "mimetype": "text/x-python",
   "name": "python",
   "nbconvert_exporter": "python",
   "pygments_lexer": "ipython3",
   "version": "3.10.0"
  },
  "orig_nbformat": 4
 },
 "nbformat": 4,
 "nbformat_minor": 2
}
