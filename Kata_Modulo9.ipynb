{
 "cells": [
  {
   "cell_type": "markdown",
   "metadata": {},
   "source": [
    "# Soluciones\n",
    "## Ejercicio 1"
   ]
  },
  {
   "cell_type": "code",
   "execution_count": null,
   "metadata": {},
   "outputs": [],
   "source": [
    "# Creación de la primer función\n",
    "def generaReporte(tanqueP, tanqueE, tanqueS):\n",
    "    totalPromedio = (tanqueS + tanqueP + tanqueE) / 3\n",
    "    return f\"\"\"Reporte de combustible:\n",
    "    ---------------------------------\n",
    "    Promedio Total: {totalPromedio} %\n",
    "    Tanque Principal: {tanqueP} %\n",
    "    Tanque Externo: {tanqueE} %\n",
    "    Tanque Secundario: {tanqueS} % \n",
    "    ---------------------------------\n",
    "    \"\"\""
   ]
  },
  {
   "cell_type": "code",
   "execution_count": null,
   "metadata": {},
   "outputs": [],
   "source": [
    "# Creación de la segunda función\n",
    "def promedio(valores):\n",
    "    total = sum(valores) / len(valores)\n",
    "    return total "
   ]
  },
  {
   "cell_type": "code",
   "execution_count": null,
   "metadata": {},
   "outputs": [],
   "source": [
    "# Impresión de datos \n",
    "print(generaReporte(90, 60, 90))\n",
    "\n",
    "print(promedio([45, 65,75]))"
   ]
  },
  {
   "cell_type": "code",
   "execution_count": null,
   "metadata": {},
   "outputs": [],
   "source": [
    "# Modificación de la primera función\n",
    "def generaReporte(tanqueP, tanqueE, tanqueS):\n",
    "    totalPromedio = (tanqueS + tanqueP + tanqueE) / 3\n",
    "    return f\"\"\"Reporte de combustible:\n",
    "    ---------------------------------\n",
    "    Promedio Total: {promedio([tanqueP, tanqueE, tanqueS])} %\n",
    "    Tanque Principal: {tanqueP} %\n",
    "    Tanque Externo: {tanqueE} %\n",
    "    Tanque Secundario: {tanqueS} % \n",
    "    ---------------------------------\n",
    "    \"\"\""
   ]
  },
  {
   "cell_type": "code",
   "execution_count": null,
   "metadata": {},
   "outputs": [],
   "source": [
    "# Nueva impresión de datos \n",
    "print(generaReporte(75, 45, 90))"
   ]
  },
  {
   "cell_type": "markdown",
   "metadata": {},
   "source": [
    "## Ejercicio 2"
   ]
  },
  {
   "cell_type": "code",
   "execution_count": null,
   "metadata": {},
   "outputs": [],
   "source": [
    "# Crear un reporte de misión\n",
    "\n",
    "def reporteMision(lanzamiento, tiempoVuelo, destino, tanqueE, tanqueP):\n",
    "    # Calculos\n",
    "    reservaTotal = tanqueP + tanqueE\n",
    "    minutosTotales = lanzamiento + tiempoVuelo\n",
    "\n",
    "    return f\"\"\"\n",
    "    Nave con destino a: {destino}\n",
    "    -------------------------------------------------------\n",
    "    Reserva en tanque externo: {tanqueE} litros\n",
    "    Reserva en tanque principa: {tanqueP} litros\n",
    "    Reserva total de combustible: {reservaTotal} litros\n",
    "    -------------------------------------------------------\n",
    "    Minutos requeridos para el lanzamiento: {lanzamiento}\n",
    "    Minutos de vuelo transcurridos: {tiempoVuelo}\n",
    "    Minutos totales de la misión: {minutosTotales}\n",
    "    \"\"\"\n",
    "\n",
    "print(reporteMision(10, 50, \"Jupiter\", 1200000, 3500000))"
   ]
  },
  {
   "cell_type": "code",
   "execution_count": 2,
   "metadata": {},
   "outputs": [
    {
     "name": "stdout",
     "output_type": "stream",
     "text": [
      "\n",
      "    Nave con destino a: Jupiter\n",
      "    -------------------------------------------------------\n",
      "    Reserva total de combustible: 4700000 litros\n",
      "    -------------------------------------------------------\n",
      "    Minutos totales de la misión: 215\n",
      "    \n"
     ]
    }
   ],
   "source": [
    "# Modificación 1 a la función\n",
    "def reporteMision(destino, *tiempo, **combustible):\n",
    "    return f\"\"\"\n",
    "    Nave con destino a: {destino}\n",
    "    -------------------------------------------------------\n",
    "    Reserva total de combustible: {sum(combustible.values())} litros\n",
    "    -------------------------------------------------------\n",
    "    Minutos totales de la misión: {sum(tiempo)}\n",
    "    \"\"\"\n",
    "\n",
    "print(reporteMision(\"Jupiter\", 15, 200, principal = 1200000, externo = 3500000))"
   ]
  },
  {
   "cell_type": "code",
   "execution_count": 8,
   "metadata": {},
   "outputs": [
    {
     "name": "stdout",
     "output_type": "stream",
     "text": [
      "\n",
      "    Nave con destino a: Jupiter\n",
      "    -------------------------------------------------------\n",
      "    Minutos totales de la misión: 215\n",
      "    -------------------------------------------------------\n",
      "    Reserva total de combustible: 4700000 litros\n",
      "    Tanque principal tiene 1200000 litros restantes \n",
      "    Tanque externo tiene 3500000 litros restantes \n",
      "    \n"
     ]
    }
   ],
   "source": [
    "# Modificación 1 a la función\n",
    "def reporteMision(destino, *tiempo, **combustible):\n",
    "    reporte = f\"\"\"\n",
    "    Nave con destino a: {destino}\n",
    "    -------------------------------------------------------\n",
    "    Minutos totales de la misión: {sum(tiempo)}\n",
    "    -------------------------------------------------------\n",
    "    Reserva total de combustible: {sum(combustible.values())} litros\n",
    "    \"\"\"\n",
    "    for tanque, litros in combustible.items():\n",
    "        reporte += f\"Tanque {tanque} tiene {litros} litros restantes \\n    \"\n",
    "    return reporte\n",
    "\n",
    "print(reporteMision(\"Jupiter\", 15, 200, principal = 1200000, externo = 3500000))"
   ]
  }
 ],
 "metadata": {
  "interpreter": {
   "hash": "aee8b7b246df8f9039afb4144a1f6fd8d2ca17a180786b69acc140d282b71a49"
  },
  "kernelspec": {
   "display_name": "Python 3.10.0 64-bit",
   "language": "python",
   "name": "python3"
  },
  "language_info": {
   "codemirror_mode": {
    "name": "ipython",
    "version": 3
   },
   "file_extension": ".py",
   "mimetype": "text/x-python",
   "name": "python",
   "nbconvert_exporter": "python",
   "pygments_lexer": "ipython3",
   "version": "3.10.0"
  },
  "orig_nbformat": 4
 },
 "nbformat": 4,
 "nbformat_minor": 2
}
